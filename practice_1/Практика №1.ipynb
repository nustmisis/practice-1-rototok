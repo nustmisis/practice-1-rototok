{
 "cells": [
  {
   "cell_type": "markdown",
   "id": "ee761a4d",
   "metadata": {},
   "source": [
    "## Практика №1\n",
    "\n",
    "Jupyter-ноутбук — интерактивная среда разработки с «живым» кодом. В ней показана визуализация работы. Если разработчик хочет посмотреть на график или формулу, он пишет нужную команду в соответствующей ячейке. Такой подход экономит время и помогает избежать ошибок.\n",
    "\n",
    "\n"
   ]
  },
  {
   "cell_type": "markdown",
   "id": "e48306d5",
   "metadata": {},
   "source": [
    "## Полезные особенности \n",
    "\n",
    "Полный список хоткеев — в разделе Help → Keyboard Shortcuts.\n",
    "Магические команды, которые работают в ipython, которые могут помочь вам запускать и анализировать данные в jupyter nootbook. Они добавляют специальную функциональность, которую нелегко достичь с помощью кода Python или интерфейса ноутбука Jupyter.\n",
    "\n",
    "Все команды доступны по ссылке %lsmagic"
   ]
  },
  {
   "cell_type": "markdown",
   "id": "9bd76b2c",
   "metadata": {},
   "source": [
    "### Работа с ячейками\n",
    "Код выполняется внутри ячеек,последовательно исходя из номера слева от ячейки."
   ]
  },
  {
   "cell_type": "code",
   "execution_count": 1,
   "id": "c5cec0a1",
   "metadata": {},
   "outputs": [
    {
     "name": "stdout",
     "output_type": "stream",
     "text": [
      "Вывод переменной а =  1\n"
     ]
    }
   ],
   "source": [
    "#Это комментарии, он не влияет на работу кода\n",
    "a=1\n",
    "print('Вывод переменной а = ',a)"
   ]
  },
  {
   "cell_type": "code",
   "execution_count": 2,
   "id": "536a28ff",
   "metadata": {},
   "outputs": [
    {
     "name": "stdout",
     "output_type": "stream",
     "text": [
      "Вывод переменной b =  2\n"
     ]
    }
   ],
   "source": [
    "b=2\n",
    "print('Вывод переменной b = ',b)"
   ]
  },
  {
   "cell_type": "code",
   "execution_count": 3,
   "id": "52629efb",
   "metadata": {},
   "outputs": [
    {
     "name": "stdout",
     "output_type": "stream",
     "text": [
      "1 2\n"
     ]
    }
   ],
   "source": [
    "#Мы можем вывести переменные из ранее запущенных ячеек\n",
    "print(a,b)"
   ]
  },
  {
   "cell_type": "markdown",
   "id": "e4e249e6",
   "metadata": {},
   "source": [
    "### Типы переменных"
   ]
  },
  {
   "cell_type": "code",
   "execution_count": 4,
   "id": "6aed7f93",
   "metadata": {},
   "outputs": [
    {
     "name": "stdout",
     "output_type": "stream",
     "text": [
      "<class 'int'>\n",
      "<class 'float'>\n",
      "<class 'complex'>\n"
     ]
    }
   ],
   "source": [
    "#Числа\n",
    "a = 1\n",
    "b = 2.3 \n",
    "c = 1+2j\n",
    "print(type(a))\n",
    "print(type(b))\n",
    "print(type(c))"
   ]
  },
  {
   "cell_type": "code",
   "execution_count": 5,
   "id": "9b473dfe",
   "metadata": {},
   "outputs": [
    {
     "data": {
      "text/plain": [
       "float"
      ]
     },
     "execution_count": 5,
     "metadata": {},
     "output_type": "execute_result"
    }
   ],
   "source": [
    "#Конвертация типов переменных\n",
    "a_float = float(a)\n",
    "type(a_float)"
   ]
  },
  {
   "cell_type": "code",
   "execution_count": 6,
   "id": "1267c489",
   "metadata": {},
   "outputs": [
    {
     "name": "stdout",
     "output_type": "stream",
     "text": [
      "<class 'str'>\n"
     ]
    }
   ],
   "source": [
    "#Строки\n",
    "string_a = 'Какая то строка' \n",
    "print(type(string_a))"
   ]
  },
  {
   "cell_type": "code",
   "execution_count": 7,
   "id": "f02fc1ee",
   "metadata": {},
   "outputs": [
    {
     "name": "stdout",
     "output_type": "stream",
     "text": [
      "<class 'bool'>\n",
      "Но a + a =  2\n"
     ]
    }
   ],
   "source": [
    "#Булевые переменные\n",
    "a = True\n",
    "print(type(a))\n",
    "print('Но a + a = ',a+a)"
   ]
  },
  {
   "cell_type": "code",
   "execution_count": 9,
   "id": "212cb97a",
   "metadata": {},
   "outputs": [
    {
     "data": {
      "text/plain": [
       "list"
      ]
     },
     "execution_count": 9,
     "metadata": {},
     "output_type": "execute_result"
    }
   ],
   "source": [
    "#Cписки (list)\n",
    "list_=[1,1,2.3,'str']\n",
    "type(list_)"
   ]
  },
  {
   "cell_type": "code",
   "execution_count": 10,
   "id": "c18744e9",
   "metadata": {},
   "outputs": [
    {
     "data": {
      "text/plain": [
       "set"
      ]
     },
     "execution_count": 10,
     "metadata": {},
     "output_type": "execute_result"
    }
   ],
   "source": [
    "#Множество (set)\n",
    "set_={1,1,2.3,'str'}\n",
    "type(set_)\n"
   ]
  },
  {
   "cell_type": "code",
   "execution_count": 11,
   "id": "27176acd",
   "metadata": {},
   "outputs": [
    {
     "data": {
      "text/plain": [
       "tuple"
      ]
     },
     "execution_count": 11,
     "metadata": {},
     "output_type": "execute_result"
    }
   ],
   "source": [
    "#Кортежи (turpl)\n",
    "turpl_=(1,1,2.3,'str')\n",
    "type(turpl_)"
   ]
  },
  {
   "cell_type": "markdown",
   "id": "118a67aa",
   "metadata": {},
   "source": [
    "### Нюансы присваивания и работы (повышенная сложность) \n",
    "изменяемые типы Python, включающие списки, словари и множества. Скажем, присваивание по смещению в списке фактически\n",
    "изменяет сам списковый объект на месте, а не создает совершенно новый такой объект."
   ]
  },
  {
   "cell_type": "code",
   "execution_count": 12,
   "id": "53189a8e",
   "metadata": {},
   "outputs": [
    {
     "name": "stdout",
     "output_type": "stream",
     "text": [
      "[24, 3, 4]\n",
      "Но и что L2 выглядит [24, 3, 4]\n"
     ]
    }
   ],
   "source": [
    "L1 = [2, 3, 4]\n",
    "L2 = L1\n",
    "L1[0] = 24\n",
    "print(L1)\n",
    "\n",
    "print('Но и что L2 выглядит',L2)"
   ]
  },
  {
   "cell_type": "code",
   "execution_count": 13,
   "id": "9b31ff54",
   "metadata": {},
   "outputs": [
    {
     "data": {
      "text/plain": [
       "[2, 3, 4]"
      ]
     },
     "execution_count": 13,
     "metadata": {},
     "output_type": "execute_result"
    }
   ],
   "source": [
    "#Можно сделать так, но функция co делает \"поверхностное\" копирование\n",
    "import copy \n",
    "L1 = [2, 3, 4]\n",
    "L2 = copy.copy(L1)\n",
    "L1[0] = 24\n",
    "L2"
   ]
  },
  {
   "cell_type": "code",
   "execution_count": 14,
   "id": "f723a6d2",
   "metadata": {},
   "outputs": [
    {
     "data": {
      "text/plain": [
       "[2, 3, 4]"
      ]
     },
     "execution_count": 14,
     "metadata": {},
     "output_type": "execute_result"
    }
   ],
   "source": [
    "#Модно сделать так\n",
    "L1 = [2, 3, 4]\n",
    "L2 = L1[:]\n",
    "L1[0] = 24\n",
    "L2"
   ]
  },
  {
   "cell_type": "markdown",
   "id": "b5982dba",
   "metadata": {},
   "source": [
    "### Задание №1\n",
    "Есть размеры ширина (a) и длина комнаты(b) и высота стен (c), вывести объём комнаты в м3 c плавающей точкой"
   ]
  },
  {
   "cell_type": "code",
   "execution_count": 19,
   "id": "08285930",
   "metadata": {},
   "outputs": [
    {
     "name": "stdout",
     "output_type": "stream",
     "text": [
      "Объем комнаты равен 36.0 м3\n"
     ]
    }
   ],
   "source": [
    "a = 3\n",
    "b = 4\n",
    "c = 3\n",
    "\n",
    "#Ваш код сдесь\n",
    "V = float(a*b*c)\n",
    "\n",
    "print(\"Объем комнаты равен {0} м3\".format(V))"
   ]
  },
  {
   "cell_type": "markdown",
   "id": "24622ae5",
   "metadata": {},
   "source": [
    "### Задание №2\n",
    "Есть список значений list_v, выведите список без дубликатов значения\n"
   ]
  },
  {
   "cell_type": "code",
   "execution_count": 20,
   "id": "0a0766ee",
   "metadata": {},
   "outputs": [
    {
     "name": "stdout",
     "output_type": "stream",
     "text": [
      "{0, 2, 3, 4, 5}\n"
     ]
    }
   ],
   "source": [
    "list_v = [2,2,3,4,5,0,0]\n",
    "\n",
    "#Ваш код сдесь\n",
    "list_v = set(list_v)\n",
    "\n",
    "print(list_v)"
   ]
  }
 ],
 "metadata": {
  "kernelspec": {
   "display_name": "Python 3",
   "language": "python",
   "name": "python3"
  },
  "language_info": {
   "codemirror_mode": {
    "name": "ipython",
    "version": 3
   },
   "file_extension": ".py",
   "mimetype": "text/x-python",
   "name": "python",
   "nbconvert_exporter": "python",
   "pygments_lexer": "ipython3",
   "version": "3.10.10"
  }
 },
 "nbformat": 4,
 "nbformat_minor": 5
}
